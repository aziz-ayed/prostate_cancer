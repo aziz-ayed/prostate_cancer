{
  "cells": [
    {
      "cell_type": "markdown",
      "metadata": {
        "id": "view-in-github",
        "colab_type": "text"
      },
      "source": [
        "<a href=\"https://colab.research.google.com/github/aziz-ayed/prostate_cancer/blob/main/neural_networks.ipynb\" target=\"_parent\"><img src=\"https://colab.research.google.com/assets/colab-badge.svg\" alt=\"Open In Colab\"/></a>"
      ]
    },
    {
      "cell_type": "code",
      "execution_count": null,
      "metadata": {
        "colab": {
          "base_uri": "https://localhost:8080/"
        },
        "id": "cyIbZiLEjk6A",
        "outputId": "0f6cbab1-4d87-4c8b-fd8e-bd76c3dd3b52"
      },
      "outputs": [
        {
          "name": "stdout",
          "output_type": "stream",
          "text": [
            "Collecting tensorflow-addons==0.8.3\n",
            "  Downloading tensorflow_addons-0.8.3-cp37-cp37m-manylinux2010_x86_64.whl (1.0 MB)\n",
            "\u001b[?25l\r\u001b[K     |▎                               | 10 kB 28.0 MB/s eta 0:00:01\r\u001b[K     |▋                               | 20 kB 30.2 MB/s eta 0:00:01\r\u001b[K     |█                               | 30 kB 15.5 MB/s eta 0:00:01\r\u001b[K     |█▎                              | 40 kB 11.6 MB/s eta 0:00:01\r\u001b[K     |█▋                              | 51 kB 8.5 MB/s eta 0:00:01\r\u001b[K     |██                              | 61 kB 9.9 MB/s eta 0:00:01\r\u001b[K     |██▎                             | 71 kB 10.3 MB/s eta 0:00:01\r\u001b[K     |██▋                             | 81 kB 10.5 MB/s eta 0:00:01\r\u001b[K     |███                             | 92 kB 11.5 MB/s eta 0:00:01\r\u001b[K     |███▎                            | 102 kB 11.9 MB/s eta 0:00:01\r\u001b[K     |███▋                            | 112 kB 11.9 MB/s eta 0:00:01\r\u001b[K     |████                            | 122 kB 11.9 MB/s eta 0:00:01\r\u001b[K     |████▎                           | 133 kB 11.9 MB/s eta 0:00:01\r\u001b[K     |████▋                           | 143 kB 11.9 MB/s eta 0:00:01\r\u001b[K     |████▉                           | 153 kB 11.9 MB/s eta 0:00:01\r\u001b[K     |█████▏                          | 163 kB 11.9 MB/s eta 0:00:01\r\u001b[K     |█████▌                          | 174 kB 11.9 MB/s eta 0:00:01\r\u001b[K     |█████▉                          | 184 kB 11.9 MB/s eta 0:00:01\r\u001b[K     |██████▏                         | 194 kB 11.9 MB/s eta 0:00:01\r\u001b[K     |██████▌                         | 204 kB 11.9 MB/s eta 0:00:01\r\u001b[K     |██████▉                         | 215 kB 11.9 MB/s eta 0:00:01\r\u001b[K     |███████▏                        | 225 kB 11.9 MB/s eta 0:00:01\r\u001b[K     |███████▌                        | 235 kB 11.9 MB/s eta 0:00:01\r\u001b[K     |███████▉                        | 245 kB 11.9 MB/s eta 0:00:01\r\u001b[K     |████████▏                       | 256 kB 11.9 MB/s eta 0:00:01\r\u001b[K     |████████▌                       | 266 kB 11.9 MB/s eta 0:00:01\r\u001b[K     |████████▉                       | 276 kB 11.9 MB/s eta 0:00:01\r\u001b[K     |█████████▏                      | 286 kB 11.9 MB/s eta 0:00:01\r\u001b[K     |█████████▍                      | 296 kB 11.9 MB/s eta 0:00:01\r\u001b[K     |█████████▊                      | 307 kB 11.9 MB/s eta 0:00:01\r\u001b[K     |██████████                      | 317 kB 11.9 MB/s eta 0:00:01\r\u001b[K     |██████████▍                     | 327 kB 11.9 MB/s eta 0:00:01\r\u001b[K     |██████████▊                     | 337 kB 11.9 MB/s eta 0:00:01\r\u001b[K     |███████████                     | 348 kB 11.9 MB/s eta 0:00:01\r\u001b[K     |███████████▍                    | 358 kB 11.9 MB/s eta 0:00:01\r\u001b[K     |███████████▊                    | 368 kB 11.9 MB/s eta 0:00:01\r\u001b[K     |████████████                    | 378 kB 11.9 MB/s eta 0:00:01\r\u001b[K     |████████████▍                   | 389 kB 11.9 MB/s eta 0:00:01\r\u001b[K     |████████████▊                   | 399 kB 11.9 MB/s eta 0:00:01\r\u001b[K     |█████████████                   | 409 kB 11.9 MB/s eta 0:00:01\r\u001b[K     |█████████████▍                  | 419 kB 11.9 MB/s eta 0:00:01\r\u001b[K     |█████████████▊                  | 430 kB 11.9 MB/s eta 0:00:01\r\u001b[K     |██████████████                  | 440 kB 11.9 MB/s eta 0:00:01\r\u001b[K     |██████████████▎                 | 450 kB 11.9 MB/s eta 0:00:01\r\u001b[K     |██████████████▋                 | 460 kB 11.9 MB/s eta 0:00:01\r\u001b[K     |███████████████                 | 471 kB 11.9 MB/s eta 0:00:01\r\u001b[K     |███████████████▎                | 481 kB 11.9 MB/s eta 0:00:01\r\u001b[K     |███████████████▋                | 491 kB 11.9 MB/s eta 0:00:01\r\u001b[K     |████████████████                | 501 kB 11.9 MB/s eta 0:00:01\r\u001b[K     |████████████████▎               | 512 kB 11.9 MB/s eta 0:00:01\r\u001b[K     |████████████████▋               | 522 kB 11.9 MB/s eta 0:00:01\r\u001b[K     |█████████████████               | 532 kB 11.9 MB/s eta 0:00:01\r\u001b[K     |█████████████████▎              | 542 kB 11.9 MB/s eta 0:00:01\r\u001b[K     |█████████████████▋              | 552 kB 11.9 MB/s eta 0:00:01\r\u001b[K     |██████████████████              | 563 kB 11.9 MB/s eta 0:00:01\r\u001b[K     |██████████████████▎             | 573 kB 11.9 MB/s eta 0:00:01\r\u001b[K     |██████████████████▋             | 583 kB 11.9 MB/s eta 0:00:01\r\u001b[K     |██████████████████▉             | 593 kB 11.9 MB/s eta 0:00:01\r\u001b[K     |███████████████████▏            | 604 kB 11.9 MB/s eta 0:00:01\r\u001b[K     |███████████████████▌            | 614 kB 11.9 MB/s eta 0:00:01\r\u001b[K     |███████████████████▉            | 624 kB 11.9 MB/s eta 0:00:01\r\u001b[K     |████████████████████▏           | 634 kB 11.9 MB/s eta 0:00:01\r\u001b[K     |████████████████████▌           | 645 kB 11.9 MB/s eta 0:00:01\r\u001b[K     |████████████████████▉           | 655 kB 11.9 MB/s eta 0:00:01\r\u001b[K     |█████████████████████▏          | 665 kB 11.9 MB/s eta 0:00:01\r\u001b[K     |█████████████████████▌          | 675 kB 11.9 MB/s eta 0:00:01\r\u001b[K     |█████████████████████▉          | 686 kB 11.9 MB/s eta 0:00:01\r\u001b[K     |██████████████████████▏         | 696 kB 11.9 MB/s eta 0:00:01\r\u001b[K     |██████████████████████▌         | 706 kB 11.9 MB/s eta 0:00:01\r\u001b[K     |██████████████████████▉         | 716 kB 11.9 MB/s eta 0:00:01\r\u001b[K     |███████████████████████▏        | 727 kB 11.9 MB/s eta 0:00:01\r\u001b[K     |███████████████████████▍        | 737 kB 11.9 MB/s eta 0:00:01\r\u001b[K     |███████████████████████▊        | 747 kB 11.9 MB/s eta 0:00:01\r\u001b[K     |████████████████████████        | 757 kB 11.9 MB/s eta 0:00:01\r\u001b[K     |████████████████████████▍       | 768 kB 11.9 MB/s eta 0:00:01\r\u001b[K     |████████████████████████▊       | 778 kB 11.9 MB/s eta 0:00:01\r\u001b[K     |█████████████████████████       | 788 kB 11.9 MB/s eta 0:00:01\r\u001b[K     |█████████████████████████▍      | 798 kB 11.9 MB/s eta 0:00:01\r\u001b[K     |█████████████████████████▊      | 808 kB 11.9 MB/s eta 0:00:01\r\u001b[K     |██████████████████████████      | 819 kB 11.9 MB/s eta 0:00:01\r\u001b[K     |██████████████████████████▍     | 829 kB 11.9 MB/s eta 0:00:01\r\u001b[K     |██████████████████████████▊     | 839 kB 11.9 MB/s eta 0:00:01\r\u001b[K     |███████████████████████████     | 849 kB 11.9 MB/s eta 0:00:01\r\u001b[K     |███████████████████████████▍    | 860 kB 11.9 MB/s eta 0:00:01\r\u001b[K     |███████████████████████████▊    | 870 kB 11.9 MB/s eta 0:00:01\r\u001b[K     |████████████████████████████    | 880 kB 11.9 MB/s eta 0:00:01\r\u001b[K     |████████████████████████████▎   | 890 kB 11.9 MB/s eta 0:00:01\r\u001b[K     |████████████████████████████▋   | 901 kB 11.9 MB/s eta 0:00:01\r\u001b[K     |█████████████████████████████   | 911 kB 11.9 MB/s eta 0:00:01\r\u001b[K     |█████████████████████████████▎  | 921 kB 11.9 MB/s eta 0:00:01\r\u001b[K     |█████████████████████████████▋  | 931 kB 11.9 MB/s eta 0:00:01\r\u001b[K     |██████████████████████████████  | 942 kB 11.9 MB/s eta 0:00:01\r\u001b[K     |██████████████████████████████▎ | 952 kB 11.9 MB/s eta 0:00:01\r\u001b[K     |██████████████████████████████▋ | 962 kB 11.9 MB/s eta 0:00:01\r\u001b[K     |███████████████████████████████ | 972 kB 11.9 MB/s eta 0:00:01\r\u001b[K     |███████████████████████████████▎| 983 kB 11.9 MB/s eta 0:00:01\r\u001b[K     |███████████████████████████████▋| 993 kB 11.9 MB/s eta 0:00:01\r\u001b[K     |████████████████████████████████| 1.0 MB 11.9 MB/s eta 0:00:01\r\u001b[K     |████████████████████████████████| 1.0 MB 11.9 MB/s \n",
            "\u001b[?25hRequirement already satisfied: typeguard in /usr/local/lib/python3.7/dist-packages (from tensorflow-addons==0.8.3) (2.7.1)\n",
            "Installing collected packages: tensorflow-addons\n",
            "Successfully installed tensorflow-addons-0.8.3\n"
          ]
        }
      ],
      "source": [
        "!pip install tensorflow-addons==0.8.3"
      ]
    },
    {
      "cell_type": "code",
      "execution_count": null,
      "metadata": {
        "id": "ExEvFxHOrfeS"
      },
      "outputs": [],
      "source": [
        "import pandas as pd\n",
        "import numpy as np\n",
        "\n",
        "import matplotlib.pyplot as plt\n",
        "\n",
        "from sklearn.model_selection import train_test_split\n",
        "from sklearn.feature_extraction.text import CountVectorizer\n",
        "\n",
        "from sklearn.metrics import mean_squared_error\n",
        "from sklearn.metrics import r2_score\n",
        "from sklearn.metrics import mean_absolute_percentage_error\n",
        "from sklearn.metrics import roc_auc_score\n",
        "\n",
        "import pickle\n",
        "\n",
        "import tensorflow as tf\n",
        "\n",
        "from keras.layers import Flatten, Dense, Conv1D, Conv2D, AveragePooling1D, AveragePooling2D, MaxPooling1D, MaxPooling2D, Dropout, LSTM, TimeDistributed, Reshape, MaxPool2D, GRU, Normalization, Rescaling, Input, concatenate, BatchNormalization, GRU\n",
        "from keras.models import Sequential, Model\n",
        "\n",
        "from tensorflow.keras.optimizers import Adam\n",
        "from tensorflow.keras.regularizers import L1, L2, L1L2\n",
        "\n",
        "from tensorflow.random import set_seed\n",
        "\n",
        "#from tensorflow.keras.metrics import MeanAbsolutePercentageError, MeanSquaredError, mean_squared_error, mean_absolute_percentage_error\n",
        "#import tensorflow_addons as tfa\n",
        "\n",
        "from math import floor\n",
        "\n",
        "import re\n",
        "\n",
        "import os\n",
        "\n",
        "import random"
      ]
    },
    {
      "cell_type": "markdown",
      "metadata": {
        "id": "0ZkSmjG3tEG6"
      },
      "source": [
        "# Utils"
      ]
    },
    {
      "cell_type": "code",
      "execution_count": null,
      "metadata": {
        "id": "XjFh8OSZr7wf"
      },
      "outputs": [],
      "source": [
        "def filter_length(df, l):\n",
        "    return df.groupby('EMPI').filter(lambda x : len(x)>l)\n",
        "\n",
        "def random_split(df, split_ratio, l=3, seed=10, rate=True, report=True, comorb=True, race=True):\n",
        "    \n",
        "    permutation = np.random.RandomState(seed=seed).permutation(merged['EMPI'].unique())\n",
        "    training_idx, test_idx = permutation[:floor(split_ratio*len(permutation))], permutation[floor(split_ratio*len(permutation)):]\n",
        "\n",
        "    X_train, y_train = window(df[df['EMPI'].isin(training_idx)], l, rate=rate, report=report, comorb=comorb, race=race)\n",
        "    X_test, y_test = window(df[df['EMPI'].isin(test_idx)], l, rate=rate, report=report, comorb=comorb, race=race)\n",
        "    \n",
        "    return X_train, y_train, X_test, y_test\n",
        "  \n",
        "def window(df, l, rate=True, report=True, comorb=True, race=True):\n",
        "    \n",
        "    df_x = pd.DataFrame()\n",
        "    Y = []\n",
        "    \n",
        "    idx_comorb = df.columns.get_loc(\"mi_agg\")\n",
        "    comorb_names = df.columns[idx_comorb::]\n",
        "        \n",
        "    race_names = [\"Asian\", \"Black\", \"Hispanic\", \"Unknown/other\", \"White\"]\n",
        "    \n",
        "    iterator = 0\n",
        "    \n",
        "    for patient_id in df.EMPI.unique():\n",
        "\n",
        "        subset = df[df[\"EMPI\"]==patient_id].sort_values(by=[\"delta\"])\n",
        "        psa_seq = subset.PSA\n",
        "        delta_seq = subset.delta\n",
        "        \n",
        "        for i in range(l-1,len(subset)-1):\n",
        "            \n",
        "            X = []\n",
        "            Y.append(psa_seq.iloc[i+1])\n",
        "            \n",
        "            X.append(patient_id)\n",
        "            \n",
        "            for j in range(i-(l-1),i+1):\n",
        "                \n",
        "                if rate == True:\n",
        "                    \n",
        "                    if j ==(i-(l-1)):\n",
        "                        X.append(psa_seq.iloc[j])\n",
        "                    else:\n",
        "                        if (delta_seq.iloc[j]-delta_seq.iloc[j-i]) > 0:\n",
        "                            X.append((psa_seq.iloc[j]-psa_seq.iloc[j-1])/(delta_seq.iloc[j]-delta_seq.iloc[j-i]))\n",
        "                        else:\n",
        "                            X.append((psa_seq.iloc[j]-psa_seq.iloc[j-1]))\n",
        "                    \n",
        "    \n",
        "                    \n",
        "                else:\n",
        "                    \n",
        "                    X.append(psa_seq.iloc[j])\n",
        "                    X.append(delta_seq.iloc[j])\n",
        "                    \n",
        "                X.append(subset[\"bmi\"].iloc[j])\n",
        "                \n",
        "            X.append(delta_seq.iloc[i+1])    \n",
        "            X.append(subset[\"age_diagnosis\"].iloc[i+1])\n",
        "            \n",
        "            if race:\n",
        "                \n",
        "                for race in race_names:\n",
        "                    X.append(subset[race].iloc[i])\n",
        "            \n",
        "            if comorb:\n",
        "\n",
        "                for comor in comorb_names:\n",
        "                    X.append(subset[comor].iloc[i])\n",
        "            \n",
        "            #X.append(subset[\"race_cat\"].iloc[i])\n",
        "            \n",
        "            if report:\n",
        "                X.append(subset[\"report\"].iloc[i])\n",
        "            \n",
        "            df_x[iterator] = X\n",
        "            \n",
        "            iterator += 1\n",
        "\n",
        "    return df_x.T, Y\n",
        "\n",
        "def get_notes(pat):\n",
        "    corpus = []\n",
        "    for idx in pat.index:\n",
        "        \n",
        "        note = pat.loc[idx][len(X_train.columns) - 1]\n",
        "        note = re.sub(r'[0-9]+', '', note)\n",
        "        note = note.replace(\"\\n\", '')\n",
        "        note = note.replace(\"\\r\", '')\n",
        "        note = note.replace(\"Exam Number:\", \"\")\n",
        "        note = note.replace(\"Report Status:  FinalType:  MRIProstateWWODate/Time:  // :Exam Code:  MRIPROWWOOrdering Provider: \", \"\")\n",
        "        note = note.replace(\"[report_end\", \"\")\n",
        "        note = note.replace(\"/\", \"\")\n",
        "        note = note.strip()\n",
        "        corpus.append(note)\n",
        "    return corpus"
      ]
    },
    {
      "cell_type": "code",
      "execution_count": null,
      "metadata": {
        "id": "MSrKUnq4wL-e"
      },
      "outputs": [],
      "source": [
        "SEED = 10\n",
        "\n",
        "def set_seeds(seed=SEED):\n",
        "    os.environ['PYTHONHASHSEED'] = str(seed)\n",
        "    random.seed(seed)\n",
        "    tf.random.set_seed(seed)\n",
        "    np.random.seed(seed)\n",
        "\n",
        "def set_global_determinism(seed=SEED):\n",
        "    set_seeds(seed=seed)\n",
        "\n",
        "    os.environ['TF_DETERMINISTIC_OPS'] = '1'\n",
        "    os.environ['TF_CUDNN_DETERMINISTIC'] = '1'\n",
        "    \n",
        "    tf.config.threading.set_inter_op_parallelism_threads(1)\n",
        "    tf.config.threading.set_intra_op_parallelism_threads(1)\n",
        "\n",
        "set_global_determinism(seed=SEED)"
      ]
    },
    {
      "cell_type": "markdown",
      "metadata": {
        "id": "xF00AVOCtM76"
      },
      "source": [
        "# Importing and processing the data"
      ]
    },
    {
      "cell_type": "code",
      "execution_count": null,
      "metadata": {
        "id": "p6s8ASnltqCh"
      },
      "outputs": [],
      "source": [
        "merged = pd.read_csv(\"prostate_df.csv\")"
      ]
    },
    {
      "cell_type": "code",
      "execution_count": null,
      "metadata": {
        "colab": {
          "base_uri": "https://localhost:8080/"
        },
        "id": "o8hq-o8bs5GQ",
        "outputId": "3d82e36f-e7ee-4a56-9475-7353854bd471"
      },
      "outputs": [
        {
          "output_type": "stream",
          "name": "stderr",
          "text": [
            "/usr/local/lib/python3.7/dist-packages/ipykernel_launcher.py:78: PerformanceWarning: DataFrame is highly fragmented.  This is usually the result of calling `frame.insert` many times, which has poor performance.  Consider joining all columns at once using pd.concat(axis=1) instead.  To get a de-fragmented frame, use `newframe = frame.copy()`\n"
          ]
        }
      ],
      "source": [
        "#original = merged[merged[\"report\"]!= \"0\"]\n",
        "original = merged\n",
        "original = original.dropna(subset=['PSA'])\n",
        "mri_patients = filter_length(original, 4)\n",
        "X_train, y_train, X_test, y_test = random_split(mri_patients, split_ratio=0.9, l=4, report=False, rate=False, comorb=True, race=True)"
      ]
    },
    {
      "cell_type": "code",
      "execution_count": 1,
      "metadata": {
        "id": "iR3-HAikteN6"
      },
      "outputs": [],
      "source": [
        "## Bag of words - to run if we want to use it\n",
        "\n",
        "\n",
        "#corpus_train = get_notes(X_train)\n",
        "#corpus_test = get_notes(X_test)\n",
        "#vectorizer = CountVectorizer(max_features=30, ngram_range=(1,2), stop_words='english')\n",
        "#bow_train = vectorizer.fit_transform(corpus_train)\n",
        "#bow_train = pd.DataFrame.sparse.from_spmatrix(bow_train)\n",
        "#bow_test = vectorizer.transform(corpus_test)\n",
        "#bow_test = pd.DataFrame.sparse.from_spmatrix(bow_test)\n",
        "\n",
        "#nb = len(X_train.columns) - 1\n",
        "#X_train = X_train.drop(nb,axis=1)\n",
        "#X_test = X_test.drop(nb,axis=1)\n",
        "#X_train = pd.concat([X_train, bow_train], axis=1)\n",
        "#X_test = pd.concat([X_test, bow_test], axis=1)\n",
        "#X_train.columns = range(X_train.columns.size)\n",
        "#X_test.columns = range(X_test.columns.size)\n",
        "\n",
        "#X_train = X_train.astype(float)\n",
        "#X_test = X_test.astype(float)"
      ]
    },
    {
      "cell_type": "markdown",
      "metadata": {
        "id": "SD7V6KzmuFiH"
      },
      "source": [
        "# Building a first Neural Network"
      ]
    },
    {
      "cell_type": "code",
      "execution_count": null,
      "metadata": {
        "id": "9ZeG7pEJyXXZ"
      },
      "outputs": [],
      "source": [
        "X_train = X_train.iloc[:, 1:]\n",
        "X_train = np.expand_dims(X_train, axis=2)\n",
        "\n",
        "X_test = X_test.iloc[:, 1:]\n",
        "X_test = np.expand_dims(X_test, axis=2)\n",
        "\n",
        "X_train = np.array(X_train)\n",
        "y_train = np.array(y_train)\n",
        "\n",
        "X_test = np.array(X_test)\n",
        "y_test = np.array(y_test)"
      ]
    },
    {
      "cell_type": "code",
      "execution_count": null,
      "metadata": {
        "colab": {
          "base_uri": "https://localhost:8080/"
        },
        "id": "8sOTlSWguHUJ",
        "outputId": "426d7243-0b29-4f70-bd0d-9bcc43ed0451"
      },
      "outputs": [
        {
          "output_type": "stream",
          "name": "stdout",
          "text": [
            "Model: \"sequential_1\"\n",
            "_________________________________________________________________\n",
            " Layer (type)                Output Shape              Param #   \n",
            "=================================================================\n",
            " conv1d_3 (Conv1D)           (None, 15, 32)            128       \n",
            "                                                                 \n",
            " conv1d_4 (Conv1D)           (None, 13, 64)            6208      \n",
            "                                                                 \n",
            " conv1d_5 (Conv1D)           (None, 9, 128)            41088     \n",
            "                                                                 \n",
            " average_pooling1d_1 (Averag  (None, 4, 128)           0         \n",
            " ePooling1D)                                                     \n",
            "                                                                 \n",
            " flatten_1 (Flatten)         (None, 512)               0         \n",
            "                                                                 \n",
            " dense_3 (Dense)             (None, 30)                15390     \n",
            "                                                                 \n",
            " dense_4 (Dense)             (None, 10)                310       \n",
            "                                                                 \n",
            " dense_5 (Dense)             (None, 1)                 11        \n",
            "                                                                 \n",
            "=================================================================\n",
            "Total params: 63,135\n",
            "Trainable params: 63,135\n",
            "Non-trainable params: 0\n",
            "_________________________________________________________________\n"
          ]
        }
      ],
      "source": [
        "model = Sequential([\n",
        "                    Conv1D(32, 3, strides=3, input_shape=(X_train.shape[1], 1), activation=\"relu\", padding=\"same\"),\n",
        "                    #AveragePooling1D(),\n",
        "                    Conv1D(64, 3, strides=1, activation=\"relu\"),\n",
        "                    Conv1D(128, 5, strides=1, activation=\"relu\"),\n",
        "                    AveragePooling1D(),\n",
        "                    Flatten(),\n",
        "                    Dense(30, activation=\"relu\", kernel_regularizer=L1(1e-4)),\n",
        "                    Dense(10, activation=\"relu\", kernel_regularizer=L1(1e-4)),\n",
        "                    Dense(1, activation=\"linear\")\n",
        "])\n",
        "\n",
        "model.summary()"
      ]
    },
    {
      "cell_type": "code",
      "source": [
        "#model = Sequential([\n",
        "#                    GRU(units=64, return_sequences=True, input_shape=(X_train.shape[1], 1)),\n",
        "#                    AveragePooling1D(5),\n",
        "#                    #AveragePooling1D(),\n",
        "#                    Dropout(0.5),\n",
        "#                    GRU(units=64, return_sequences=True),\n",
        "#                    GRU(units=32),\n",
        "#                    Dropout(0.5),\n",
        "#                    Dense(20, activation=\"relu\"),\n",
        "#                    Dense(1, activation=\"linear\"),\n",
        "#])\n",
        "\n",
        "#model.summary()"
      ],
      "metadata": {
        "id": "6b9dTSyWBovh"
      },
      "execution_count": null,
      "outputs": []
    },
    {
      "cell_type": "code",
      "execution_count": 2,
      "metadata": {
        "id": "m74M6JwCx09p"
      },
      "outputs": [],
      "source": [
        "#model.compile(loss=\"mean_squared_error\", optimizer=Adam(lr=0.0005), metrics=[\"MeanSquaredError\"])\n",
        "model.compile(loss=\"mean_squared_error\", optimizer=Adam(lr=0.0005), metrics=[\"MeanSquaredError\", \"MeanAbsolutePercentageError\"])\n",
        "#model.compile(loss=\"binary_crossentropy\", optimizer=Adam(lr=0.00005), metrics=[\"AUC\", \"accuracy\"])\n",
        "history = model.fit(X_train, y_train, epochs=30, batch_size=16, validation_split=0.1)"
      ]
    },
    {
      "cell_type": "code",
      "execution_count": null,
      "metadata": {
        "colab": {
          "base_uri": "https://localhost:8080/"
        },
        "id": "MPCmi8Unwlb_",
        "outputId": "0131729d-d613-4095-e2d4-b5af88fe20a1"
      },
      "outputs": [
        {
          "output_type": "execute_result",
          "data": {
            "text/plain": [
              "0.6949694481702773"
            ]
          },
          "metadata": {},
          "execution_count": 49
        }
      ],
      "source": [
        "y_pred = model.predict(X_test)\n",
        "mse = mean_squared_error(y_pred, y_test)\n",
        "print(\"RMSE: %.2f\" % (mse**(1/2.0)))\n",
        "print(\"R2: \", r2_score(y_pred, y_test))\n",
        "print(\"MAPE: \", mean_absolute_percentage_error(y_pred, y_test))"
      ]
    },
    {
      "cell_type": "markdown",
      "source": [
        "# Visualizing the results for patients from the test set that ended up getting treatment"
      ],
      "metadata": {
        "id": "ZE0gVg6WLddh"
      }
    },
    {
      "cell_type": "code",
      "source": [
        "seed = 10\n",
        "split_ratio = 0.9\n",
        "permutation = np.random.RandomState(seed=seed).permutation(merged['EMPI'].unique())\n",
        "training_idx, test_idx = permutation[:floor(0.9*len(permutation))], permutation[floor(split_ratio*len(permutation)):]"
      ],
      "metadata": {
        "id": "DHbNL6k9-gXp"
      },
      "execution_count": null,
      "outputs": []
    },
    {
      "cell_type": "code",
      "source": [
        "patient = merged[merged['EMPI'] == 100021664].sort_values(by='time_lab_result')\n",
        "\n",
        "patient.time_lab_result = pd.to_datetime(patient.time_lab_result).dt.date\n",
        "patient.rdtdate_first = pd.to_datetime(patient.rdtdate_first).dt.date\n",
        "#merged[(merged['EMPI'].isin(test_idx)) & (merged['rdtdate_first'] != '2040-12-15 00:00:00')].iloc[0:30, :]\n",
        "plt.figure(figsize=(15, 8))\n",
        "plt.plot(patient.time_lab_result, patient.PSA, color=\"grey\", marker=\"o\", label=\"True\")\n",
        "plt.plot(patient.time_lab_result[4::], y_preds_patient, color=\"red\", marker=\"o\", label=\"Prediction\")\n",
        "plt.axvline(x=patient.rdtdate_a first.iloc[0], ymin=0, ymax=7, color=\"black\", label=\"Radiation date\")\n",
        "plt.xlabel(\"Dates\")\n",
        "plt.ylabel(\"PSA value\")\n",
        "plt.legend()"
      ],
      "metadata": {
        "colab": {
          "base_uri": "https://localhost:8080/",
          "height": 514
        },
        "id": "BXu1Y8Uo-Rzl",
        "outputId": "f9836274-d8d9-4746-ae43-c45444952956"
      },
      "execution_count": null,
      "outputs": [
        {
          "output_type": "execute_result",
          "data": {
            "text/plain": [
              "<matplotlib.legend.Legend at 0x7f77aa1a8c10>"
            ]
          },
          "metadata": {},
          "execution_count": 519
        },
        {
          "output_type": "display_data",
          "data": {
            "text/plain": [
              "<Figure size 1080x576 with 1 Axes>"
            ],
            "image/png": "[encoded data removed]"
          },
          "metadata": {
            "needs_background": "light"
          }
        }
      ]
    },
    {
      "cell_type": "code",
      "source": [
        "X_patient, y_patient = window(patient, l=4, report=False, rate=False)"
      ],
      "metadata": {
        "id": "kArHgQIzAp46"
      },
      "execution_count": null,
      "outputs": []
    },
    {
      "cell_type": "code",
      "source": [
        "X_patient = X_patient.iloc[:, 1:]\n",
        "X_patient = np.expand_dims(X_patient, axis=2)\n",
        "\n",
        "y_patient = np.array(y_patient)"
      ],
      "metadata": {
        "id": "tTTDLSvBABFG"
      },
      "execution_count": null,
      "outputs": []
    },
    {
      "cell_type": "code",
      "source": [
        "y_preds_patient = model.predict(X_patient)"
      ],
      "metadata": {
        "id": "t4ot1GKjBKi5"
      },
      "execution_count": null,
      "outputs": []
    },
    {
      "cell_type": "markdown",
      "metadata": {
        "id": "5DwbxXcy8itR"
      },
      "source": [
        "# Bag of Words"
      ]
    },
    {
      "cell_type": "code",
      "execution_count": null,
      "metadata": {
        "colab": {
          "base_uri": "https://localhost:8080/"
        },
        "id": "B7rxr9pO8j18",
        "outputId": "87807ec2-7829-4dcc-8a9e-32a454d592cf"
      },
      "outputs": [
        {
          "name": "stderr",
          "output_type": "stream",
          "text": [
            "/usr/local/lib/python3.7/dist-packages/ipykernel_launcher.py:61: PerformanceWarning: DataFrame is highly fragmented.  This is usually the result of calling `frame.insert` many times, which has poor performance.  Consider joining all columns at once using pd.concat(axis=1) instead.  To get a de-fragmented frame, use `newframe = frame.copy()`\n"
          ]
        }
      ],
      "source": [
        "original = merged[merged[\"report\"]!= \"0\"]\n",
        "original = original.dropna(subset=['PSA'])\n",
        "mri_patients = filter_length(original, 3)\n",
        "X_train, y_train, X_test, y_test = random_split(mri_patients, split_ratio=0.9, l=3, report=True, rate=False)\n",
        "\n",
        "corpus_train = get_notes(X_train)\n",
        "corpus_test = get_notes(X_test)\n",
        "vectorizer = CountVectorizer(max_features=10, ngram_range=(1,2), stop_words='english')\n",
        "bow_train = vectorizer.fit_transform(corpus_train)\n",
        "bow_train = pd.DataFrame.sparse.from_spmatrix(bow_train)\n",
        "bow_test = vectorizer.transform(corpus_test)\n",
        "bow_test = pd.DataFrame.sparse.from_spmatrix(bow_test)\n",
        "\n",
        "nb = len(X_train.columns) - 1\n",
        "X_train = X_train.drop(nb,axis=1)\n",
        "X_test = X_test.drop(nb,axis=1)\n",
        "X_train = pd.concat([X_train, bow_train], axis=1)\n",
        "X_test = pd.concat([X_test, bow_test], axis=1)\n",
        "X_train.columns = range(X_train.columns.size)\n",
        "X_test.columns = range(X_test.columns.size)\n",
        "\n",
        "X_train = X_train.astype(float)\n",
        "X_test = X_test.astype(float)\n",
        "\n",
        "X_train = X_train.iloc[:, 1:]\n",
        "X_train = np.expand_dims(X_train, axis=2)\n",
        "\n",
        "X_test = X_test.iloc[:, 1:]\n",
        "X_test = np.expand_dims(X_test, axis=2)\n",
        "\n",
        "X_train = np.array(X_train)\n",
        "y_train = np.array(y_train)\n",
        "\n",
        "X_test = np.array(X_test)\n",
        "y_test = np.array(y_test)"
      ]
    },
    {
      "cell_type": "code",
      "execution_count": null,
      "metadata": {
        "colab": {
          "base_uri": "https://localhost:8080/"
        },
        "id": "lum4BWgM8to4",
        "outputId": "e605103f-573e-4745-a63e-8de0002767f3"
      },
      "outputs": [
        {
          "name": "stdout",
          "output_type": "stream",
          "text": [
            "Model: \"sequential_45\"\n",
            "_________________________________________________________________\n",
            " Layer (type)                Output Shape              Param #   \n",
            "=================================================================\n",
            " conv1d_69 (Conv1D)          (None, 7, 64)             256       \n",
            "                                                                 \n",
            " dropout_12 (Dropout)        (None, 7, 64)             0         \n",
            "                                                                 \n",
            " conv1d_70 (Conv1D)          (None, 6, 32)             4128      \n",
            "                                                                 \n",
            " dropout_13 (Dropout)        (None, 6, 32)             0         \n",
            "                                                                 \n",
            " max_pooling1d_25 (MaxPoolin  (None, 3, 32)            0         \n",
            " g1D)                                                            \n",
            "                                                                 \n",
            " flatten_44 (Flatten)        (None, 96)                0         \n",
            "                                                                 \n",
            " dense_86 (Dense)            (None, 50)                4850      \n",
            "                                                                 \n",
            " dropout_14 (Dropout)        (None, 50)                0         \n",
            "                                                                 \n",
            " dense_87 (Dense)            (None, 1)                 51        \n",
            "                                                                 \n",
            "=================================================================\n",
            "Total params: 9,285\n",
            "Trainable params: 9,285\n",
            "Non-trainable params: 0\n",
            "_________________________________________________________________\n"
          ]
        }
      ],
      "source": [
        "model = Sequential([\n",
        "                    Conv1D(64, 3, strides=3, input_shape=(X_train.shape[1], 1), activation=\"relu\", padding=\"same\"),\n",
        "                    Dropout(0.2),\n",
        "                    Conv1D(32, 2, strides=1, activation=\"relu\"),\n",
        "                    Dropout(0.2),\n",
        "                    MaxPooling1D(),\n",
        "                    Flatten(),\n",
        "                    Dense(50, activation=\"relu\", use_bias=True),\n",
        "                    Dropout(0.2),\n",
        "                    Dense(1, activation=\"elu\")\n",
        "])\n",
        "\n",
        "model.summary()"
      ]
    },
    {
      "cell_type": "code",
      "execution_count": null,
      "metadata": {
        "colab": {
          "base_uri": "https://localhost:8080/"
        },
        "id": "CtzL1JZo9wvf",
        "outputId": "0b77e031-5b3d-4a62-96e2-f2e13cf22e42"
      },
      "outputs": [
        {
          "name": "stdout",
          "output_type": "stream",
          "text": [
            "Epoch 1/30\n"
          ]
        },
        {
          "name": "stderr",
          "output_type": "stream",
          "text": [
            "/usr/local/lib/python3.7/dist-packages/keras/optimizer_v2/adam.py:105: UserWarning: The `lr` argument is deprecated, use `learning_rate` instead.\n",
            "  super(Adam, self).__init__(name, **kwargs)\n"
          ]
        },
        {
          "name": "stdout",
          "output_type": "stream",
          "text": [
            "477/477 [==============================] - 3s 4ms/step - loss: 21.1522 - mean_squared_error: 21.1522 - val_loss: 10.3663 - val_mean_squared_error: 10.3663\n",
            "Epoch 2/30\n",
            "477/477 [==============================] - 2s 4ms/step - loss: 15.9446 - mean_squared_error: 15.9446 - val_loss: 8.5944 - val_mean_squared_error: 8.5944\n",
            "Epoch 3/30\n",
            "477/477 [==============================] - 2s 4ms/step - loss: 13.7760 - mean_squared_error: 13.7760 - val_loss: 6.4061 - val_mean_squared_error: 6.4061\n",
            "Epoch 4/30\n",
            "477/477 [==============================] - 2s 4ms/step - loss: 13.5183 - mean_squared_error: 13.5183 - val_loss: 6.3423 - val_mean_squared_error: 6.3423\n",
            "Epoch 5/30\n",
            "477/477 [==============================] - 2s 4ms/step - loss: 12.7373 - mean_squared_error: 12.7373 - val_loss: 5.9279 - val_mean_squared_error: 5.9279\n",
            "Epoch 6/30\n",
            "477/477 [==============================] - 2s 4ms/step - loss: 12.7614 - mean_squared_error: 12.7614 - val_loss: 5.9189 - val_mean_squared_error: 5.9189\n",
            "Epoch 7/30\n",
            "477/477 [==============================] - 2s 4ms/step - loss: 12.8131 - mean_squared_error: 12.8131 - val_loss: 5.2724 - val_mean_squared_error: 5.2724\n",
            "Epoch 8/30\n",
            "477/477 [==============================] - 2s 4ms/step - loss: 11.9192 - mean_squared_error: 11.9192 - val_loss: 5.8393 - val_mean_squared_error: 5.8393\n",
            "Epoch 9/30\n",
            "477/477 [==============================] - 2s 4ms/step - loss: 11.3223 - mean_squared_error: 11.3223 - val_loss: 6.5056 - val_mean_squared_error: 6.5056\n",
            "Epoch 10/30\n",
            "477/477 [==============================] - 2s 4ms/step - loss: 11.8740 - mean_squared_error: 11.8740 - val_loss: 6.3230 - val_mean_squared_error: 6.3230\n",
            "Epoch 11/30\n",
            "477/477 [==============================] - 2s 4ms/step - loss: 11.8124 - mean_squared_error: 11.8124 - val_loss: 6.9038 - val_mean_squared_error: 6.9038\n",
            "Epoch 12/30\n",
            "477/477 [==============================] - 2s 4ms/step - loss: 11.3544 - mean_squared_error: 11.3544 - val_loss: 6.2681 - val_mean_squared_error: 6.2681\n",
            "Epoch 13/30\n",
            "477/477 [==============================] - 2s 4ms/step - loss: 12.0434 - mean_squared_error: 12.0434 - val_loss: 6.2004 - val_mean_squared_error: 6.2004\n",
            "Epoch 14/30\n",
            "477/477 [==============================] - 2s 4ms/step - loss: 11.4346 - mean_squared_error: 11.4346 - val_loss: 5.4301 - val_mean_squared_error: 5.4301\n",
            "Epoch 15/30\n",
            "477/477 [==============================] - 2s 4ms/step - loss: 11.1165 - mean_squared_error: 11.1165 - val_loss: 5.3764 - val_mean_squared_error: 5.3764\n",
            "Epoch 16/30\n",
            "477/477 [==============================] - 2s 4ms/step - loss: 11.8251 - mean_squared_error: 11.8251 - val_loss: 5.0565 - val_mean_squared_error: 5.0565\n",
            "Epoch 17/30\n",
            "477/477 [==============================] - 2s 4ms/step - loss: 11.1230 - mean_squared_error: 11.1230 - val_loss: 5.4772 - val_mean_squared_error: 5.4772\n",
            "Epoch 18/30\n",
            "477/477 [==============================] - 2s 4ms/step - loss: 10.5084 - mean_squared_error: 10.5084 - val_loss: 5.5181 - val_mean_squared_error: 5.5181\n",
            "Epoch 19/30\n",
            "477/477 [==============================] - 2s 4ms/step - loss: 11.0981 - mean_squared_error: 11.0981 - val_loss: 5.2507 - val_mean_squared_error: 5.2507\n",
            "Epoch 20/30\n",
            "477/477 [==============================] - 2s 4ms/step - loss: 10.7315 - mean_squared_error: 10.7315 - val_loss: 5.6274 - val_mean_squared_error: 5.6274\n",
            "Epoch 21/30\n",
            "477/477 [==============================] - 2s 4ms/step - loss: 10.9188 - mean_squared_error: 10.9188 - val_loss: 5.2426 - val_mean_squared_error: 5.2426\n",
            "Epoch 22/30\n",
            "477/477 [==============================] - 2s 4ms/step - loss: 11.4848 - mean_squared_error: 11.4848 - val_loss: 6.6491 - val_mean_squared_error: 6.6491\n",
            "Epoch 23/30\n",
            "477/477 [==============================] - 2s 4ms/step - loss: 10.3535 - mean_squared_error: 10.3535 - val_loss: 6.0981 - val_mean_squared_error: 6.0981\n",
            "Epoch 24/30\n",
            "477/477 [==============================] - 2s 4ms/step - loss: 10.6574 - mean_squared_error: 10.6574 - val_loss: 6.1188 - val_mean_squared_error: 6.1188\n",
            "Epoch 25/30\n",
            "477/477 [==============================] - 2s 4ms/step - loss: 10.8467 - mean_squared_error: 10.8467 - val_loss: 5.5645 - val_mean_squared_error: 5.5645\n",
            "Epoch 26/30\n",
            "477/477 [==============================] - 2s 4ms/step - loss: 10.5533 - mean_squared_error: 10.5533 - val_loss: 5.5937 - val_mean_squared_error: 5.5937\n",
            "Epoch 27/30\n",
            "477/477 [==============================] - 2s 4ms/step - loss: 10.7513 - mean_squared_error: 10.7513 - val_loss: 6.2474 - val_mean_squared_error: 6.2474\n",
            "Epoch 28/30\n",
            "477/477 [==============================] - 2s 4ms/step - loss: 10.0424 - mean_squared_error: 10.0424 - val_loss: 4.6869 - val_mean_squared_error: 4.6869\n",
            "Epoch 29/30\n",
            "477/477 [==============================] - 2s 4ms/step - loss: 10.5151 - mean_squared_error: 10.5151 - val_loss: 4.7593 - val_mean_squared_error: 4.7593\n",
            "Epoch 30/30\n",
            "477/477 [==============================] - 2s 4ms/step - loss: 11.2188 - mean_squared_error: 11.2188 - val_loss: 6.4837 - val_mean_squared_error: 6.4837\n"
          ]
        },
        {
          "data": {
            "text/plain": [
              "<keras.callbacks.History at 0x7fc3cd217e50>"
            ]
          },
          "execution_count": 176,
          "metadata": {},
          "output_type": "execute_result"
        }
      ],
      "source": [
        "model.compile(loss=\"mean_squared_error\", optimizer=Adam(lr=0.001), metrics=[\"MeanSquaredError\"])\n",
        "model.fit(X_train, y_train, epochs=30, batch_size=16, validation_split=0.1)"
      ]
    },
    {
      "cell_type": "code",
      "execution_count": null,
      "metadata": {
        "colab": {
          "base_uri": "https://localhost:8080/"
        },
        "id": "ghBJ-VvU879-",
        "outputId": "eed08698-de29-4b2e-b665-3a988e0ea827"
      },
      "outputs": [
        {
          "name": "stdout",
          "output_type": "stream",
          "text": [
            "RMSE: 4.27\n",
            "R2:  -0.5544286759233725\n",
            "MAPE:  0.3837088994818385\n"
          ]
        }
      ],
      "source": [
        "y_pred = model.predict(X_test)\n",
        "mse = mean_squared_error(y_pred, y_test)\n",
        "print(\"RMSE: %.2f\" % (mse**(1/2.0)))\n",
        "print(\"R2: \", r2_score(y_pred, y_test))\n",
        "print(\"MAPE: \", mean_absolute_percentage_error(y_pred, y_test))"
      ]
    },
    {
      "cell_type": "markdown",
      "metadata": {
        "id": "-tTiYaEhNScK"
      },
      "source": [
        "# Trying an LSTM approach for our time series data"
      ]
    },
    {
      "cell_type": "code",
      "execution_count": null,
      "metadata": {
        "id": "CPBn91TMNpAl"
      },
      "outputs": [],
      "source": [
        "X_train_LSTM = np.array(X_train.iloc[:, 1:10])\n",
        "y_train = np.array(y_train)\n",
        "\n",
        "X_test_LSTM = np.array(X_test.iloc[:, 1:10])\n",
        "y_test = np.array(y_test)"
      ]
    },
    {
      "cell_type": "code",
      "execution_count": null,
      "metadata": {
        "id": "d_cHm4rwOdqK"
      },
      "outputs": [],
      "source": [
        "X_train_LSTM = np.reshape(X_train_LSTM, (len(X_train), -1, 3))\n",
        "\n",
        "X_test_LSTM = np.reshape(X_test_LSTM, (len(X_test), -1, 3))"
      ]
    },
    {
      "cell_type": "code",
      "execution_count": null,
      "metadata": {
        "colab": {
          "base_uri": "https://localhost:8080/"
        },
        "id": "0k1GMLab-hvp",
        "outputId": "b68d756d-4c79-4cd5-f500-689748bf813d"
      },
      "outputs": [
        {
          "name": "stdout",
          "output_type": "stream",
          "text": [
            "WARNING:tensorflow:Layer lstm_4 will not use cuDNN kernels since it doesn't meet the criteria. It will use a generic GPU kernel as fallback when running on GPU.\n",
            "WARNING:tensorflow:Layer lstm_5 will not use cuDNN kernels since it doesn't meet the criteria. It will use a generic GPU kernel as fallback when running on GPU.\n",
            "Model: \"sequential_4\"\n",
            "_________________________________________________________________\n",
            " Layer (type)                Output Shape              Param #   \n",
            "=================================================================\n",
            " lstm_4 (LSTM)               (None, 3, 30)             4080      \n",
            "                                                                 \n",
            " lstm_5 (LSTM)               (None, 10)                1640      \n",
            "                                                                 \n",
            " dropout_4 (Dropout)         (None, 10)                0         \n",
            "                                                                 \n",
            " dense_5 (Dense)             (None, 1)                 11        \n",
            "                                                                 \n",
            "=================================================================\n",
            "Total params: 5,731\n",
            "Trainable params: 5,731\n",
            "Non-trainable params: 0\n",
            "_________________________________________________________________\n"
          ]
        }
      ],
      "source": [
        "model = Sequential([\n",
        "                    LSTM(30, activation=\"relu\", input_shape=(3, 3), return_sequences=True),\n",
        "                    LSTM(10, activation='relu'),\n",
        "                    Dropout(0.2),\n",
        "                    Dense(1, activation=\"relu\"),\n",
        "])\n",
        "\n",
        "model.summary()"
      ]
    },
    {
      "cell_type": "code",
      "execution_count": null,
      "metadata": {
        "colab": {
          "base_uri": "https://localhost:8080/"
        },
        "id": "bBMEb0lAPKrP",
        "outputId": "36900fd5-c414-4729-a868-8d5df6be298a"
      },
      "outputs": [
        {
          "name": "stdout",
          "output_type": "stream",
          "text": [
            "Epoch 1/30\n"
          ]
        },
        {
          "name": "stderr",
          "output_type": "stream",
          "text": [
            "/usr/local/lib/python3.7/dist-packages/keras/optimizer_v2/adam.py:105: UserWarning: The `lr` argument is deprecated, use `learning_rate` instead.\n",
            "  super(Adam, self).__init__(name, **kwargs)\n"
          ]
        },
        {
          "name": "stdout",
          "output_type": "stream",
          "text": [
            "477/477 [==============================] - 9s 15ms/step - loss: 22.2890 - mean_squared_error: 22.2890 - val_loss: 7.1855 - val_mean_squared_error: 7.1855\n",
            "Epoch 2/30\n",
            "477/477 [==============================] - 7s 15ms/step - loss: 14.5164 - mean_squared_error: 14.5164 - val_loss: 5.8042 - val_mean_squared_error: 5.8042\n",
            "Epoch 3/30\n",
            "477/477 [==============================] - 7s 15ms/step - loss: 12.3859 - mean_squared_error: 12.3859 - val_loss: 5.3933 - val_mean_squared_error: 5.3933\n",
            "Epoch 4/30\n",
            "477/477 [==============================] - 7s 15ms/step - loss: 13.7610 - mean_squared_error: 13.7610 - val_loss: 5.7596 - val_mean_squared_error: 5.7596\n",
            "Epoch 5/30\n",
            "477/477 [==============================] - 8s 17ms/step - loss: 11.7473 - mean_squared_error: 11.7473 - val_loss: 5.0576 - val_mean_squared_error: 5.0576\n",
            "Epoch 6/30\n",
            "477/477 [==============================] - 7s 15ms/step - loss: 12.7895 - mean_squared_error: 12.7895 - val_loss: 5.5436 - val_mean_squared_error: 5.5436\n",
            "Epoch 7/30\n",
            "477/477 [==============================] - 7s 14ms/step - loss: 11.4456 - mean_squared_error: 11.4456 - val_loss: 5.3416 - val_mean_squared_error: 5.3416\n",
            "Epoch 8/30\n",
            "477/477 [==============================] - 7s 15ms/step - loss: 12.0241 - mean_squared_error: 12.0241 - val_loss: 6.0073 - val_mean_squared_error: 6.0073\n",
            "Epoch 9/30\n",
            "477/477 [==============================] - 7s 15ms/step - loss: 11.8910 - mean_squared_error: 11.8910 - val_loss: 4.8960 - val_mean_squared_error: 4.8960\n",
            "Epoch 10/30\n",
            "477/477 [==============================] - 7s 15ms/step - loss: 10.5398 - mean_squared_error: 10.5398 - val_loss: 5.3102 - val_mean_squared_error: 5.3102\n",
            "Epoch 11/30\n",
            "477/477 [==============================] - 7s 14ms/step - loss: 10.7438 - mean_squared_error: 10.7438 - val_loss: 5.7863 - val_mean_squared_error: 5.7863\n",
            "Epoch 12/30\n",
            "477/477 [==============================] - 7s 14ms/step - loss: 9.8621 - mean_squared_error: 9.8621 - val_loss: 5.1320 - val_mean_squared_error: 5.1320\n",
            "Epoch 13/30\n",
            "477/477 [==============================] - 7s 15ms/step - loss: 10.0007 - mean_squared_error: 10.0007 - val_loss: 5.4735 - val_mean_squared_error: 5.4735\n",
            "Epoch 14/30\n",
            "477/477 [==============================] - 7s 14ms/step - loss: 11.2941 - mean_squared_error: 11.2941 - val_loss: 5.3495 - val_mean_squared_error: 5.3495\n",
            "Epoch 15/30\n",
            "477/477 [==============================] - 7s 15ms/step - loss: 10.7194 - mean_squared_error: 10.7194 - val_loss: 5.6565 - val_mean_squared_error: 5.6565\n",
            "Epoch 16/30\n",
            "477/477 [==============================] - 7s 14ms/step - loss: 9.4539 - mean_squared_error: 9.4539 - val_loss: 6.5959 - val_mean_squared_error: 6.5959\n",
            "Epoch 17/30\n",
            "477/477 [==============================] - 7s 15ms/step - loss: 9.6692 - mean_squared_error: 9.6692 - val_loss: 5.4699 - val_mean_squared_error: 5.4699\n",
            "Epoch 18/30\n",
            "477/477 [==============================] - 7s 15ms/step - loss: 10.3103 - mean_squared_error: 10.3103 - val_loss: 5.2739 - val_mean_squared_error: 5.2739\n",
            "Epoch 19/30\n",
            "477/477 [==============================] - 7s 15ms/step - loss: 9.4999 - mean_squared_error: 9.4999 - val_loss: 5.8460 - val_mean_squared_error: 5.8460\n",
            "Epoch 20/30\n",
            "477/477 [==============================] - 7s 15ms/step - loss: 9.6775 - mean_squared_error: 9.6775 - val_loss: 4.9583 - val_mean_squared_error: 4.9583\n",
            "Epoch 21/30\n",
            "477/477 [==============================] - 7s 15ms/step - loss: 9.3807 - mean_squared_error: 9.3807 - val_loss: 5.2480 - val_mean_squared_error: 5.2480\n",
            "Epoch 22/30\n",
            "477/477 [==============================] - 7s 15ms/step - loss: 8.7504 - mean_squared_error: 8.7504 - val_loss: 5.3884 - val_mean_squared_error: 5.3884\n",
            "Epoch 23/30\n",
            "477/477 [==============================] - 7s 14ms/step - loss: 9.1587 - mean_squared_error: 9.1587 - val_loss: 5.3472 - val_mean_squared_error: 5.3472\n",
            "Epoch 24/30\n",
            "477/477 [==============================] - 7s 15ms/step - loss: 9.8428 - mean_squared_error: 9.8428 - val_loss: 5.7393 - val_mean_squared_error: 5.7393\n",
            "Epoch 25/30\n",
            "477/477 [==============================] - 7s 15ms/step - loss: 8.7808 - mean_squared_error: 8.7808 - val_loss: 5.0109 - val_mean_squared_error: 5.0109\n",
            "Epoch 26/30\n",
            "477/477 [==============================] - 7s 14ms/step - loss: 8.7659 - mean_squared_error: 8.7659 - val_loss: 5.7149 - val_mean_squared_error: 5.7149\n",
            "Epoch 27/30\n",
            "477/477 [==============================] - 7s 15ms/step - loss: 9.3431 - mean_squared_error: 9.3431 - val_loss: 5.2409 - val_mean_squared_error: 5.2409\n",
            "Epoch 28/30\n",
            "477/477 [==============================] - 7s 15ms/step - loss: 8.7252 - mean_squared_error: 8.7252 - val_loss: 6.4254 - val_mean_squared_error: 6.4254\n",
            "Epoch 29/30\n",
            "477/477 [==============================] - 7s 15ms/step - loss: 8.3123 - mean_squared_error: 8.3123 - val_loss: 5.4649 - val_mean_squared_error: 5.4649\n",
            "Epoch 30/30\n",
            "477/477 [==============================] - 7s 15ms/step - loss: 10.2970 - mean_squared_error: 10.2970 - val_loss: 5.4505 - val_mean_squared_error: 5.4505\n"
          ]
        },
        {
          "data": {
            "text/plain": [
              "<keras.callbacks.History at 0x7f76d8023050>"
            ]
          },
          "execution_count": 56,
          "metadata": {},
          "output_type": "execute_result"
        }
      ],
      "source": [
        "model.compile(loss=\"mean_squared_error\", optimizer=Adam(lr=0.001), metrics=[\"MeanSquaredError\"])\n",
        "model.fit(X_train_LSTM, y_train, epochs=30, batch_size=16, validation_split=0.1)"
      ]
    },
    {
      "cell_type": "code",
      "execution_count": null,
      "metadata": {
        "colab": {
          "base_uri": "https://localhost:8080/"
        },
        "id": "FVFZDP_HPY5F",
        "outputId": "e08a24c7-b334-4c0d-f26f-1ec67cf971d4"
      },
      "outputs": [
        {
          "name": "stdout",
          "output_type": "stream",
          "text": [
            "RMSE: 3.75\n",
            "R2:  0.5010613931829128\n",
            "MAPE:  9029494302401.484\n"
          ]
        }
      ],
      "source": [
        "y_pred = model.predict(X_test_LSTM)\n",
        "mse = mean_squared_error(y_pred, y_test)\n",
        "print(\"RMSE: %.2f\" % (mse**(1/2.0)))\n",
        "print(\"R2: \", r2_score(y_pred, y_test))\n",
        "print(\"MAPE: \", mean_absolute_percentage_error(y_pred, y_test))"
      ]
    },
    {
      "cell_type": "code",
      "execution_count": null,
      "metadata": {
        "colab": {
          "base_uri": "https://localhost:8080/"
        },
        "id": "3peL5mATP-9a",
        "outputId": "0c9077f2-45b4-4c1a-fbda-8c560f88eadf"
      },
      "outputs": [
        {
          "data": {
            "text/plain": [
              "29.88659484863281"
            ]
          },
          "execution_count": 52,
          "metadata": {},
          "output_type": "execute_result"
        }
      ],
      "source": [
        "np.max(y_pred-y_test)"
      ]
    },
    {
      "cell_type": "markdown",
      "metadata": {
        "id": "1PUxBoZ6TzcP"
      },
      "source": [
        "# Joint Model - Separate heads for patient features and BoW"
      ]
    },
    {
      "cell_type": "code",
      "execution_count": null,
      "metadata": {
        "colab": {
          "base_uri": "https://localhost:8080/"
        },
        "id": "m4-PTdm_WU1D",
        "outputId": "9c5602f4-49f3-4d9b-e63e-4ec6310b26e9"
      },
      "outputs": [
        {
          "output_type": "stream",
          "name": "stderr",
          "text": [
            "/usr/local/lib/python3.7/dist-packages/ipykernel_launcher.py:78: PerformanceWarning: DataFrame is highly fragmented.  This is usually the result of calling `frame.insert` many times, which has poor performance.  Consider joining all columns at once using pd.concat(axis=1) instead.  To get a de-fragmented frame, use `newframe = frame.copy()`\n"
          ]
        }
      ],
      "source": [
        "l = 4\n",
        "original = merged[merged[\"report\"]!= \"0\"]\n",
        "original = original.dropna(subset=['PSA'])\n",
        "mri_patients = filter_length(original, l)\n",
        "X_train, y_train, X_test, y_test = random_split(mri_patients, split_ratio=0.9, l=l, report=True, rate=False, comorb=True, race=True)\n",
        "\n",
        "corpus_train = get_notes(X_train)\n",
        "corpus_test = get_notes(X_test)\n",
        "vectorizer = CountVectorizer(max_features=100, ngram_range=(1, 2), stop_words='english')\n",
        "bow_train = vectorizer.fit_transform(corpus_train)\n",
        "bow_train = pd.DataFrame.sparse.from_spmatrix(bow_train)\n",
        "bow_test = vectorizer.transform(corpus_test)\n",
        "bow_test = pd.DataFrame.sparse.from_spmatrix(bow_test)\n",
        "\n",
        "nb = len(X_train.columns) - 1\n",
        "X_train = X_train.drop(nb,axis=1)\n",
        "X_test = X_test.drop(nb,axis=1)\n",
        "X_train = pd.concat([X_train, bow_train], axis=1)\n",
        "X_test = pd.concat([X_test, bow_test], axis=1)\n",
        "X_train.columns = range(X_train.columns.size)\n",
        "X_test.columns = range(X_test.columns.size)\n",
        "\n",
        "X_train = X_train.astype(float)\n",
        "X_test = X_test.astype(float)\n",
        "\n",
        "X_train = X_train.iloc[:, 1:]\n",
        "#X_train = np.expand_dims(X_train, axis=2)\n",
        "\n",
        "X_test = X_test.iloc[:, 1:]\n",
        "#X_test = np.expand_dims(X_test, axis=2)\n",
        "\n",
        "#X_train = np.array(X_train)\n",
        "#y_train = np.array(y_train)\n",
        "\n",
        "#X_test = np.array(X_test)\n",
        "#y_test = np.array(y_test)"
      ]
    },
    {
      "cell_type": "code",
      "execution_count": null,
      "metadata": {
        "id": "KNakQjvOWujN"
      },
      "outputs": [],
      "source": [
        "X_train_time = X_train.iloc[:, 0:3*l+21]\n",
        "X_train_meta = np.array(X_train.iloc[:, 3*l+21::])\n",
        "\n",
        "X_test_time = X_test.iloc[:, 0:3*l+21]\n",
        "X_test_meta = np.array(X_test.iloc[:, 3*l+21::])\n",
        "\n",
        "#X_train_time = np.reshape(np.array(X_train_time), (len(X_train), -1, 3))\n",
        "\n",
        "#X_test_time = np.reshape(np.array(X_test_time), (len(X_test), -1, 3))\n",
        "\n",
        "X_train_time = np.array(X_train_time)\n",
        "X_test_time = np.array(X_test_time)\n",
        "y_train = np.array(y_train)\n",
        "y_test = np.array(y_test)\n",
        "\n",
        "X_train_time = np.expand_dims(X_train_time, axis=2)\n",
        "X_test_time = np.expand_dims(X_test_time, axis=2)"
      ]
    },
    {
      "cell_type": "code",
      "execution_count": null,
      "metadata": {
        "colab": {
          "base_uri": "https://localhost:8080/"
        },
        "id": "aSl8TazBQd8f",
        "outputId": "5c27b0ca-756c-4b0f-b7b7-150bda11e46a"
      },
      "outputs": [
        {
          "output_type": "stream",
          "name": "stdout",
          "text": [
            "Model: \"model_18\"\n",
            "__________________________________________________________________________________________________\n",
            " Layer (type)                   Output Shape         Param #     Connected to                     \n",
            "==================================================================================================\n",
            " input_14 (InputLayer)          [(None, 33, 1)]      0           []                               \n",
            "                                                                                                  \n",
            " conv1d_220 (Conv1D)            (None, 11, 32)       128         ['input_14[0][0]']               \n",
            "                                                                                                  \n",
            " conv1d_221 (Conv1D)            (None, 9, 64)        6208        ['conv1d_220[0][0]']             \n",
            "                                                                                                  \n",
            " input_15 (InputLayer)          [(None, 110)]        0           []                               \n",
            "                                                                                                  \n",
            " conv1d_222 (Conv1D)            (None, 5, 128)       41088       ['conv1d_221[0][0]']             \n",
            "                                                                                                  \n",
            " dense_306 (Dense)              (None, 32)           3552        ['input_15[0][0]']               \n",
            "                                                                                                  \n",
            " flatten_84 (Flatten)           (None, 640)          0           ['conv1d_222[0][0]']             \n",
            "                                                                                                  \n",
            " batch_normalization_6 (BatchNo  (None, 32)          128         ['dense_306[0][0]']              \n",
            " rmalization)                                                                                     \n",
            "                                                                                                  \n",
            " dense_304 (Dense)              (None, 30)           19230       ['flatten_84[0][0]']             \n",
            "                                                                                                  \n",
            " dense_307 (Dense)              (None, 16)           528         ['batch_normalization_6[0][0]']  \n",
            "                                                                                                  \n",
            " dense_305 (Dense)              (None, 10)           310         ['dense_304[0][0]']              \n",
            "                                                                                                  \n",
            " dense_308 (Dense)              (None, 8)            136         ['dense_307[0][0]']              \n",
            "                                                                                                  \n",
            " concatenate_5 (Concatenate)    (None, 18)           0           ['dense_305[0][0]',              \n",
            "                                                                  'dense_308[0][0]']              \n",
            "                                                                                                  \n",
            " dense_309 (Dense)              (None, 10)           190         ['concatenate_5[0][0]']          \n",
            "                                                                                                  \n",
            " dense_310 (Dense)              (None, 1)            11          ['dense_309[0][0]']              \n",
            "                                                                                                  \n",
            "==================================================================================================\n",
            "Total params: 71,509\n",
            "Trainable params: 71,445\n",
            "Non-trainable params: 64\n",
            "__________________________________________________________________________________________________\n"
          ]
        }
      ],
      "source": [
        "input_time = Input(shape=(X_train_time.shape[1], 1))\n",
        "\n",
        "#x = LSTM(50, activation=\"relu\", input_shape=(l, 3), return_sequences=False)(input_time)\n",
        "#x = BatchNormalization(axis=-1)(x)\n",
        "#x = Dropout(0.3)(x)\n",
        "#x = LSTM(20, activation=\"relu\")(x)\n",
        "\n",
        "x = Conv1D(32, 3, strides=3, activation=\"relu\", padding=\"same\")(input_time)\n",
        "#x = Dropout(0.2)(x)\n",
        "x = Conv1D(64, 3, strides=1, activation=\"relu\")(x)\n",
        "#x = Dropout(0.2)(x)\n",
        "x = Conv1D(128, 5, strides=1, activation=\"relu\")(x)\n",
        "#x = AveragePooling1D(x)\n",
        "x = Flatten()(x)\n",
        "x = Dense(30, activation=\"relu\", kernel_regularizer=L1(1e-4))(x)\n",
        "x = Dense(10, activation=\"relu\", kernel_regularizer=L1(1e-4))(x)\n",
        "#x = Dense(1, activation=\"relu\")(x)\n",
        "\n",
        "x = Model(inputs=input_time, outputs = x)\n",
        "\n",
        "input_bow = Input(shape = (X_train_meta.shape[1]))\n",
        "\n",
        "#y = Dense(128, activation=\"relu\")(input_bow)\n",
        "#y = Dropout(0.3)(y)\n",
        "y = Dense(32, activation=\"relu\", kernel_regularizer=L1(1e-4))(input_bow)\n",
        "y = BatchNormalization(axis=-1)(y)\n",
        "y = Dense(16, activation=\"relu\", kernel_regularizer=L1(1e-4))(y)\n",
        "y = Dense(8, activation=\"relu\")(y)\n",
        "y = Model(inputs=input_bow, outputs = y)\n",
        "\n",
        "concatenated = concatenate([x.output, y.output])\n",
        "\n",
        "z = Dense(10, activation=\"relu\")(concatenated)\n",
        "z = Dense(1, activation=\"linear\")(z)\n",
        "model = Model(inputs=[x.input, y.input], outputs=z)\n",
        "\n",
        "model.summary()\n",
        "# BatchNormalization"
      ]
    },
    {
      "cell_type": "code",
      "execution_count": null,
      "metadata": {
        "colab": {
          "base_uri": "https://localhost:8080/"
        },
        "id": "sfO3kMHgUaV2",
        "outputId": "a9c90d0e-87c2-47c9-e4ef-1ed1722df2b8"
      },
      "outputs": [
        {
          "output_type": "stream",
          "name": "stdout",
          "text": [
            "Epoch 1/10\n"
          ]
        },
        {
          "output_type": "stream",
          "name": "stderr",
          "text": [
            "/usr/local/lib/python3.7/dist-packages/keras/optimizer_v2/adam.py:105: UserWarning: The `lr` argument is deprecated, use `learning_rate` instead.\n",
            "  super(Adam, self).__init__(name, **kwargs)\n"
          ]
        },
        {
          "output_type": "stream",
          "name": "stdout",
          "text": [
            "477/477 [==============================] - 4s 7ms/step - loss: 18.9832 - mean_squared_error: 18.9088 - val_loss: 5.9469 - val_mean_squared_error: 5.8785\n",
            "Epoch 2/10\n",
            "477/477 [==============================] - 3s 6ms/step - loss: 11.3060 - mean_squared_error: 11.2397 - val_loss: 8.1452 - val_mean_squared_error: 8.0810\n",
            "Epoch 3/10\n",
            "477/477 [==============================] - 3s 6ms/step - loss: 10.3649 - mean_squared_error: 10.3022 - val_loss: 5.3942 - val_mean_squared_error: 5.3326\n",
            "Epoch 4/10\n",
            "477/477 [==============================] - 3s 6ms/step - loss: 10.6811 - mean_squared_error: 10.6208 - val_loss: 5.4090 - val_mean_squared_error: 5.3505\n",
            "Epoch 5/10\n",
            "477/477 [==============================] - 3s 6ms/step - loss: 9.6558 - mean_squared_error: 9.5988 - val_loss: 5.2620 - val_mean_squared_error: 5.2066\n",
            "Epoch 6/10\n",
            "477/477 [==============================] - 3s 6ms/step - loss: 10.7679 - mean_squared_error: 10.7138 - val_loss: 5.4432 - val_mean_squared_error: 5.3901\n",
            "Epoch 7/10\n",
            "477/477 [==============================] - 3s 6ms/step - loss: 9.6746 - mean_squared_error: 9.6216 - val_loss: 10.4865 - val_mean_squared_error: 10.4349\n",
            "Epoch 8/10\n",
            "477/477 [==============================] - 3s 6ms/step - loss: 9.6890 - mean_squared_error: 9.6383 - val_loss: 5.5084 - val_mean_squared_error: 5.4590\n",
            "Epoch 9/10\n",
            "477/477 [==============================] - 3s 6ms/step - loss: 9.5581 - mean_squared_error: 9.5094 - val_loss: 5.6196 - val_mean_squared_error: 5.5715\n",
            "Epoch 10/10\n",
            "477/477 [==============================] - 3s 6ms/step - loss: 10.0132 - mean_squared_error: 9.9661 - val_loss: 5.9962 - val_mean_squared_error: 5.9501\n"
          ]
        }
      ],
      "source": [
        "model.compile(loss=\"mean_squared_error\", optimizer=Adam(lr=0.001), metrics=[\"MeanSquaredError\"])\n",
        "history = model.fit([X_train_time, X_train_meta], y_train, epochs=10, batch_size=16, validation_split=0.1)"
      ]
    },
    {
      "cell_type": "code",
      "execution_count": null,
      "metadata": {
        "colab": {
          "base_uri": "https://localhost:8080/"
        },
        "id": "roctQevRZdtl",
        "outputId": "2f18e565-1bbd-4c82-8fdb-872c12c82574"
      },
      "outputs": [
        {
          "output_type": "stream",
          "name": "stdout",
          "text": [
            "RMSE: 3.80\n",
            "R2:  0.355253226787999\n",
            "MAPE:  0.2738781025077393\n"
          ]
        }
      ],
      "source": [
        "y_pred = model.predict([X_test_time, X_test_meta])\n",
        "mse = mean_squared_error(y_pred, y_test)\n",
        "print(\"RMSE: %.2f\" % (mse**(1/2.0)))\n",
        "print(\"R2: \", r2_score(y_pred, y_test))\n",
        "print(\"MAPE: \", mean_absolute_percentage_error(y_pred, y_test))"
      ]
    }
  ],
  "metadata": {
    "accelerator": "GPU",
    "colab": {
      "collapsed_sections": [],
      "name": "neural_networks.ipynb",
      "provenance": [],
      "authorship_tag": "ABX9TyNjNPeZhY8+UQudsUP74zsN",
      "include_colab_link": true
    },
    "kernelspec": {
      "display_name": "Python 3",
      "name": "python3"
    },
    "language_info": {
      "name": "python"
    }
  },
  "nbformat": 4,
  "nbformat_minor": 0
}